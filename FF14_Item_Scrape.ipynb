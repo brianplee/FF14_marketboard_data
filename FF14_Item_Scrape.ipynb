{
 "cells": [
  {
   "cell_type": "markdown",
   "metadata": {},
   "source": [
    "# Scrape FF14 items from https://na.finalfantasyxiv.com/lodestone/playguide/db/item "
   ]
  },
  {
   "cell_type": "code",
   "execution_count": 1,
   "metadata": {},
   "outputs": [],
   "source": [
    "import requests\n",
    "from bs4 import BeautifulSoup as bs\n",
    "import re\n",
    "import time"
   ]
  },
  {
   "cell_type": "markdown",
   "metadata": {},
   "source": [
    "# Preview HTML"
   ]
  },
  {
   "cell_type": "code",
   "execution_count": 2,
   "metadata": {},
   "outputs": [
    {
     "data": {
      "text/plain": [
       "<td class=\"db-table__body--light latest_patch__major__item\">\n",
       "<div class=\"db-list__item__icon latest_patch__major__box\">\n",
       "<div class=\"db-list__item__icon__inner\">\n",
       "<div class=\"staining\"></div>\n",
       "<img alt=\"\" class=\"db-list__item__icon__item_image\" height=\"40\" src=\"https://img.finalfantasyxiv.com/lds/pc/global/images/itemicon/c3/c3d79cdeae09313642aee21ce715e64e01d816e4.png?n6.15\" width=\"40\"/> <a href=\"/lodestone/playguide/db/item/275d11e2087/\">\n",
       "<div class=\"db-list__item__icon__cover db_popup\" data-ldst-href=\"/lodestone/playguide/db/item/275d11e2087/\"></div>\n",
       "</a>\n",
       "</div>\n",
       "</div>\n",
       "<div class=\"db-table__link_txt\">\n",
       "<span class=\"db-table__txt--type\">\n",
       "<a href=\"/lodestone/playguide/db/item/?category2=1\">Arms</a>\n",
       "\t\t\t\t\t\t\t&gt;\n",
       "\t\t\t\t\t\t\t<a href=\"/lodestone/playguide/db/item/?category2=1&amp;category3=2\">Gladiator's Arm</a>\n",
       "</span>\n",
       "<a class=\"db_popup db-table__txt--detail_link\" href=\"/lodestone/playguide/db/item/275d11e2087/\">Asphodelos Longsword</a>\n",
       "</div>\n",
       "</td>"
      ]
     },
     "execution_count": 2,
     "metadata": {},
     "output_type": "execute_result"
    }
   ],
   "source": [
    "URL = 'https://na.finalfantasyxiv.com/lodestone/playguide/db/item'\n",
    "req = requests.get(URL)\n",
    "soup = bs(req.text, 'html.parser')\n",
    "\n",
    "#grabs the table element\n",
    "table = soup.find_all('div', attrs={'class':\"db-table__wrapper\"}) \n",
    "\n",
    "#grabs every <td>, can iterate through\n",
    "rows = soup.find_all('td', attrs={'class':\"db-table__body--light latest_patch__major__item\"})\n",
    "\n",
    "rows[0]"
   ]
  },
  {
   "cell_type": "markdown",
   "metadata": {},
   "source": [
    "# Scrape category1, category2, item within Table"
   ]
  },
  {
   "cell_type": "code",
   "execution_count": 4,
   "metadata": {},
   "outputs": [
    {
     "data": {
      "text/plain": [
       "[('Arms', \"Gladiator's Arm\", 'Asphodelos Longsword'),\n",
       " ('Arms', \"Gladiator's Arm\", 'Ultimate Sword of the Heavens'),\n",
       " ('Arms', \"Gladiator's Arm\", \"Augmented Radiant's Bastard Sword\"),\n",
       " ('Arms', \"Gladiator's Arm\", 'Bluefeather Sword'),\n",
       " ('Arms', \"Gladiator's Arm\", \"Radiant's Bastard Sword\")]"
      ]
     },
     "execution_count": 4,
     "metadata": {},
     "output_type": "execute_result"
    }
   ],
   "source": [
    "#Find only categories within the table (excludes sidebar). \n",
    "\n",
    "#Category 1 and 2 require regex arguments:\n",
    "#Category 1 href: \"/lodestone/playguide/db/item/?category2=1\"  <-- category2=n where n changes per category \n",
    "#Category 2 href: \"/lodestone/playguide/db/item/?category2=1&amp;category3=2\"  <-- category3=n where n changes per cat\n",
    "#Item: a, class=\"db_popup db-table__txt--detail_link\"\n",
    "\n",
    "#Create regex function to include \"category2\" and exclude \"category3\" to identify category_one\n",
    "def not_cat_two(href):\n",
    "    match = re.compile('category2').search(str(href))\n",
    "    if match:\n",
    "        return href and not re.compile(\"category3\").search(href)\n",
    "    \n",
    "for i in table:\n",
    "    category_one = i.find_all(href=not_cat_two)\n",
    "    category_two = i.find_all(href=re.compile(\"category3=\"))\n",
    "    items = i.find_all('a', attrs={'class':\"db_popup db-table__txt--detail_link\"})\n",
    "\n",
    "category_one = [i.text for i in category_one]\n",
    "category_two = [i.text for i in category_two]\n",
    "items = [i.text for i in items]\n",
    "\n",
    "#Zip lists\n",
    "item_list = list(zip(category_one, category_two, items))\n",
    "item_list[0:5]"
   ]
  },
  {
   "cell_type": "code",
   "execution_count": null,
   "metadata": {},
   "outputs": [],
   "source": []
  },
  {
   "cell_type": "markdown",
   "metadata": {},
   "source": [
    "# Scrape from each page"
   ]
  },
  {
   "cell_type": "code",
   "execution_count": 5,
   "metadata": {},
   "outputs": [
    {
     "name": "stdout",
     "output_type": "stream",
     "text": [
      "1535.1348598003387\n"
     ]
    }
   ],
   "source": [
    "start = time.time()\n",
    "URL = 'https://na.finalfantasyxiv.com/lodestone/playguide/db/item?page='  #item?page=685\n",
    "\n",
    "req = requests.get(URL) #remove?\n",
    "soup = bs(req.text, 'html.parser') #remove?\n",
    "\n",
    "def not_cat_two(href):\n",
    "    match = re.compile('category2').search(str(href))\n",
    "    if match:\n",
    "        return href and not re.compile(\"category3\").search(href)\n",
    "\n",
    "cat_one = []\n",
    "cat_two = []\n",
    "item_list = []\n",
    "for page in range(1,686):\n",
    "    req = requests.get(URL + str(page))\n",
    "    soup = bs(req.text, 'html.parser')\n",
    "    table = soup.find_all('div', attrs={'class':\"db-table__wrapper\"})\n",
    "    \n",
    "    for i in table:\n",
    "        category_one = i.find_all(href=not_cat_two)\n",
    "        category_two = i.find_all(href=re.compile(\"category3=\"))\n",
    "        items = i.find_all('a', attrs={'class':\"db_popup db-table__txt--detail_link\"})\n",
    "    \n",
    "    [cat_one.append(i.text) for i in category_one]\n",
    "    [cat_two.append(i.text) for i in category_two]\n",
    "    [item_list.append(i.text) for i in items]\n",
    "    \n",
    "end = time.time()\n",
    "print(end - start)"
   ]
  },
  {
   "cell_type": "code",
   "execution_count": 6,
   "metadata": {},
   "outputs": [
    {
     "name": "stdout",
     "output_type": "stream",
     "text": [
      "34227\n"
     ]
    },
    {
     "data": {
      "text/plain": [
       "[('Other', 'Other', 'Rolling Tankard Ignition Key'),\n",
       " ('Other', 'Other', 'Gabriel α Identification Key'),\n",
       " ('Other', 'Other', 'Megalotragus Horn'),\n",
       " ('Other', 'Other', 'Gwiber of Light Trumpet'),\n",
       " ('Other', 'Other', 'Jibanyan Couch Medal'),\n",
       " ('Other', 'Other', 'Incitatus Whistle'),\n",
       " ('Other', 'Other', 'Ehll Tou Whistle')]"
      ]
     },
     "execution_count": 6,
     "metadata": {},
     "output_type": "execute_result"
    }
   ],
   "source": [
    "final_list = list(zip(cat_one, cat_two, item_list))\n",
    "print(len(final_list))\n",
    "final_list[32828:32835]"
   ]
  },
  {
   "cell_type": "code",
   "execution_count": null,
   "metadata": {},
   "outputs": [],
   "source": []
  },
  {
   "cell_type": "markdown",
   "metadata": {},
   "source": [
    "# Write to csv "
   ]
  },
  {
   "cell_type": "code",
   "execution_count": 7,
   "metadata": {},
   "outputs": [],
   "source": [
    "# without csv module\n",
    "\n",
    "cols = ['Category1', 'Category2','Item']\n",
    "with open('ff14_items.csv','w',  encoding='utf-8') as f:\n",
    "    for head in cols[:-1]:\n",
    "        fr = f.write(f'{head},') # add first value, with a comma for csv\n",
    "    fr = f.write(cols[-1])       # add last value separately\n",
    "    fr = f.write('\\n')           # insert paragraph break\n",
    "    \n",
    "    for i in final_list:\n",
    "        for value in i[:-1]:\n",
    "            fr = f.write(f'{value},')  \n",
    "        fr = f.write(f'{i[-1]}')\n",
    "        fr = f.write('\\n')"
   ]
  },
  {
   "cell_type": "code",
   "execution_count": 10,
   "metadata": {},
   "outputs": [
    {
     "data": {
      "text/plain": [
       "['Category1,Category2,Item\\n',\n",
       " \"Arms,Gladiator's Arm,Asphodelos Longsword\\n\",\n",
       " \"Arms,Gladiator's Arm,Ultimate Sword of the Heavens\\n\",\n",
       " \"Arms,Gladiator's Arm,Augmented Radiant's Bastard Sword\\n\",\n",
       " \"Arms,Gladiator's Arm,Bluefeather Sword\\n\",\n",
       " \"Arms,Gladiator's Arm,Radiant's Bastard Sword\\n\",\n",
       " \"Arms,Gladiator's Arm,Augmented Classical Longsword\\n\",\n",
       " \"Arms,Gladiator's Arm,Bastard Sword of Divine Light\\n\",\n",
       " \"Arms,Gladiator's Arm,Classical Longsword\\n\",\n",
       " \"Arms,Gladiator's Arm,Moonward Longsword\\n\"]"
      ]
     },
     "execution_count": 10,
     "metadata": {},
     "output_type": "execute_result"
    }
   ],
   "source": [
    "# Preview\n",
    "with open('ff14_items.csv', 'r', encoding='utf-8') as f:\n",
    "    fr = f.readlines()\n",
    "fr[0:10]"
   ]
  },
  {
   "cell_type": "code",
   "execution_count": 12,
   "metadata": {},
   "outputs": [],
   "source": [
    "# with csv module\n",
    "\n",
    "import csv\n",
    "with open('ff14_items.csv','w',encoding='utf-8',newline=\"\") as f:\n",
    "    fr = csv.writer(f)\n",
    "    #Write Header\n",
    "    fr.writerow(('Category1', 'Category2', 'Item'))\n",
    "\n",
    "    #Write rows\n",
    "    for i in final_list:\n",
    "        fr.writerow(i)"
   ]
  },
  {
   "cell_type": "code",
   "execution_count": null,
   "metadata": {},
   "outputs": [],
   "source": []
  }
 ],
 "metadata": {
  "kernelspec": {
   "display_name": "Python 3",
   "language": "python",
   "name": "python3"
  },
  "language_info": {
   "codemirror_mode": {
    "name": "ipython",
    "version": 3
   },
   "file_extension": ".py",
   "mimetype": "text/x-python",
   "name": "python",
   "nbconvert_exporter": "python",
   "pygments_lexer": "ipython3",
   "version": "3.7.3"
  }
 },
 "nbformat": 4,
 "nbformat_minor": 2
}
