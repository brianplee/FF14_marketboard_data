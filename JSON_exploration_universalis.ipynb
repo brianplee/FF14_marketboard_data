{
 "cells": [
  {
   "cell_type": "markdown",
   "metadata": {},
   "source": [
    "# Extracting FF14 Purchase History from Universalis.app "
   ]
  },
  {
   "cell_type": "code",
   "execution_count": 1,
   "metadata": {},
   "outputs": [],
   "source": [
    "import requests\n",
    "import re\n",
    "import json\n",
    "import csv\n",
    "import time\n",
    "import datetime"
   ]
  },
  {
   "cell_type": "markdown",
   "metadata": {},
   "source": [
    "### Generate links for item & transactions for each server"
   ]
  },
  {
   "cell_type": "code",
   "execution_count": 2,
   "metadata": {},
   "outputs": [
    {
     "name": "stdout",
     "output_type": "stream",
     "text": [
      "https://universalis.app/api/history/Balmung/26108?entries=5\n",
      "https://universalis.app/api/history/Brynhildr/26108?entries=5\n",
      "https://universalis.app/api/history/Coeurl/26108?entries=5\n",
      "https://universalis.app/api/history/Diabolos/26108?entries=5\n",
      "https://universalis.app/api/history/Goblin/26108?entries=5\n",
      "https://universalis.app/api/history/Marlboro/26108?entries=5\n",
      "https://universalis.app/api/history/Mateus/26108?entries=5\n",
      "https://universalis.app/api/history/Zalera/26108?entries=5\n"
     ]
    }
   ],
   "source": [
    "# Link structure: 'https://universalis.app/api/history/Mateus/23893?entries=1800'\n",
    "item_ID = 26108\n",
    "transactions = 5\n",
    "URL = 'https://universalis.app/api/history/'\n",
    "servers = ['Balmung','Brynhildr','Coeurl','Diabolos','Goblin','Marlboro','Mateus','Zalera']\n",
    "\n",
    "for server in servers:\n",
    "    print(URL+str(server)+'/'+str(item_ID)+'?entries='+str(transactions))"
   ]
  },
  {
   "cell_type": "markdown",
   "metadata": {},
   "source": [
    "### Preview json"
   ]
  },
  {
   "cell_type": "code",
   "execution_count": 3,
   "metadata": {
    "scrolled": true
   },
   "outputs": [
    {
     "data": {
      "text/plain": [
       "{'itemID': 26108,\n",
       " 'worldID': 37,\n",
       " 'lastUploadTime': 1655323242875,\n",
       " 'entries': [{'hq': True,\n",
       "   'pricePerUnit': 45990,\n",
       "   'quantity': 1,\n",
       "   'buyerName': 'Sirius Vonlinden',\n",
       "   'timestamp': 1655238872},\n",
       "  {'hq': True,\n",
       "   'pricePerUnit': 45990,\n",
       "   'quantity': 1,\n",
       "   'buyerName': 'Custom Preset',\n",
       "   'timestamp': 1655154627}],\n",
       " 'stackSizeHistogram': {'1': 613},\n",
       " 'stackSizeHistogramNQ': {'1': 17},\n",
       " 'stackSizeHistogramHQ': {'1': 596},\n",
       " 'regularSaleVelocity': 1.1428572,\n",
       " 'nqSaleVelocity': 0,\n",
       " 'hqSaleVelocity': 1.1428572,\n",
       " 'worldName': 'Mateus'}"
      ]
     },
     "execution_count": 3,
     "metadata": {},
     "output_type": "execute_result"
    }
   ],
   "source": [
    "req = requests.get('https://universalis.app/api/history/Mateus/26108?entries=2')\n",
    "sales = json.loads(req.text)\n",
    "sales"
   ]
  },
  {
   "cell_type": "markdown",
   "metadata": {},
   "source": [
    "### Troubleshooting 1: Missing 'entries':'buyerName'"
   ]
  },
  {
   "cell_type": "code",
   "execution_count": 4,
   "metadata": {},
   "outputs": [
    {
     "data": {
      "text/plain": [
       "[{'hq': True,\n",
       "  'pricePerUnit': 29990,\n",
       "  'quantity': 1,\n",
       "  'buyerName': 'Saelstine Ariesvyn',\n",
       "  'timestamp': 1653265071},\n",
       " {'hq': True, 'pricePerUnit': 29989, 'quantity': 1, 'timestamp': 1653184950},\n",
       " {'hq': True, 'pricePerUnit': 45000, 'quantity': 1, 'timestamp': 1653067347}]"
      ]
     },
     "execution_count": 4,
     "metadata": {},
     "output_type": "execute_result"
    }
   ],
   "source": [
    "req = requests.get('https://universalis.app/api/history/Mateus/26108?entries=100')\n",
    "sales = json.loads(req.text)\n",
    "sales['entries'][47:50]"
   ]
  },
  {
   "cell_type": "markdown",
   "metadata": {},
   "source": [
    "### Troubleshooting 2: Servers with 0 purchases for item of interest"
   ]
  },
  {
   "cell_type": "code",
   "execution_count": 5,
   "metadata": {},
   "outputs": [
    {
     "data": {
      "text/plain": [
       "{'type': 'https://tools.ietf.org/html/rfc7231#section-6.5.4',\n",
       " 'title': 'Not Found',\n",
       " 'status': 404,\n",
       " 'traceId': '00-1938146da9abd646bef2f1ef505d66c7-36132ace2a7051ff-00'}"
      ]
     },
     "execution_count": 5,
     "metadata": {},
     "output_type": "execute_result"
    }
   ],
   "source": [
    "req = requests.get('https://universalis.app/api/history/Marlboro/26108?entries=10')\n",
    "sales = json.loads(req.text)\n",
    "sales"
   ]
  },
  {
   "cell_type": "markdown",
   "metadata": {},
   "source": [
    "### Loop through server links and jsons"
   ]
  },
  {
   "cell_type": "code",
   "execution_count": 6,
   "metadata": {},
   "outputs": [],
   "source": [
    "def purchase_data(item_ID, transactions, servers):\n",
    "    URL = 'https://universalis.app/api/history/'\n",
    "    cross_server_data = []\n",
    "    \n",
    "    for server in servers:\n",
    "        req = requests.get(URL+str(server)+'/'+str(item_ID)+'?entries='+str(transactions))\n",
    "        sales = json.loads(req.text)\n",
    "        output = []\n",
    "        \n",
    "        # add exception-handling for servers with 0 transactions\n",
    "        try:\n",
    "            for i in sales['entries']:\n",
    "                row = [sales['itemID'], sales['worldName'], sales['regularSaleVelocity'],sales['nqSaleVelocity'], \n",
    "                       sales['hqSaleVelocity'], i['pricePerUnit'], i['quantity'], i['hq'],\n",
    "                       datetime.datetime.utcfromtimestamp(i['timestamp']).strftime(\"%m/%d/%Y,%H:%M:%S\")]\n",
    "\n",
    "                # add exception-handling for entries where buyerName didn't exist\n",
    "                try:\n",
    "                    row.insert(len(row)-1, i['buyerName'])\n",
    "                except:\n",
    "                    row.insert(len(row)-1, \"na\")\n",
    "\n",
    "                output.append(row)\n",
    "        except:\n",
    "            pass\n",
    "        \n",
    "        cross_server_data.append(output)\n",
    "        \n",
    "    return cross_server_data"
   ]
  },
  {
   "cell_type": "markdown",
   "metadata": {},
   "source": [
    "### Write to csv"
   ]
  },
  {
   "cell_type": "code",
   "execution_count": 7,
   "metadata": {},
   "outputs": [],
   "source": [
    "item_ID = 26108\n",
    "transactions = 100\n",
    "servers = ['Balmung','Brynhildr','Coeurl','Diabolos','Goblin','Marlboro','Mateus','Zalera']\n",
    "\n",
    "with open('Marketboard_Purchase_History.csv','w',  encoding='utf-8', newline=\"\") as f:\n",
    "    fr = csv.writer(f)\n",
    "    #Write Header\n",
    "    fr.writerow(('itemID', 'Server', 'regularSaleVelocity','nqSalesVelocity',\n",
    "                 'HQSalesVelocity', 'Price', 'Quantity','HQ', 'buyerName','Timestamp'))\n",
    "\n",
    "    #Write rows\n",
    "    for i in range(len(purchase_data(item_ID, transactions, servers))):\n",
    "        for row in purchase_data(item_ID, transactions, servers)[i]:\n",
    "            fr.writerow(row)"
   ]
  },
  {
   "cell_type": "code",
   "execution_count": 8,
   "metadata": {},
   "outputs": [
    {
     "data": {
      "text/plain": [
       "['itemID,Server,regularSaleVelocity,nqSalesVelocity,HQSalesVelocity,Price,Quantity,HQ,buyerName,Timestamp\\n',\n",
       " '26108,Balmung,0.42857143,0,0.42857143,28494,1,True,Beni\\'to Camelas,\"06/15/2022,17:53:11\"\\n',\n",
       " '26108,Balmung,0.42857143,0,0.42857143,55440,1,True,The Hellwalker,\"06/14/2022,00:48:49\"\\n',\n",
       " '26108,Balmung,0.42857143,0,0.42857143,55470,1,True,Erika Koutari,\"06/10/2022,15:06:27\"\\n',\n",
       " '26108,Balmung,0.42857143,0,0.42857143,55490,1,True,Katja Starfall,\"06/05/2022,20:44:05\"\\n',\n",
       " '26108,Balmung,0.42857143,0,0.42857143,59990,1,True,Katja Starfall,\"06/05/2022,03:49:17\"\\n',\n",
       " '26108,Balmung,0.42857143,0,0.42857143,59990,1,True,Y\\'nahra Rahl,\"06/01/2022,09:18:23\"\\n',\n",
       " '26108,Balmung,0.42857143,0,0.42857143,59990,1,True,Sorivian Evenfall,\"05/30/2022,04:17:34\"\\n',\n",
       " '26108,Balmung,0.42857143,0,0.42857143,29500,1,True,Emissary Themis,\"05/29/2022,20:23:37\"\\n',\n",
       " '26108,Balmung,0.42857143,0,0.42857143,30000,1,True,Hermund Hammerfist,\"05/28/2022,04:58:02\"\\n']"
      ]
     },
     "execution_count": 8,
     "metadata": {},
     "output_type": "execute_result"
    }
   ],
   "source": [
    "#Preview csv\n",
    "with open('Marketboard_Purchase_History.csv', 'r', encoding='utf-8') as f:\n",
    "    fr = f.readlines()\n",
    "fr[0:10]"
   ]
  },
  {
   "cell_type": "code",
   "execution_count": null,
   "metadata": {},
   "outputs": [],
   "source": []
  }
 ],
 "metadata": {
  "kernelspec": {
   "display_name": "Python 3 (ipykernel)",
   "language": "python",
   "name": "python3"
  },
  "language_info": {
   "codemirror_mode": {
    "name": "ipython",
    "version": 3
   },
   "file_extension": ".py",
   "mimetype": "text/x-python",
   "name": "python",
   "nbconvert_exporter": "python",
   "pygments_lexer": "ipython3",
   "version": "3.10.5"
  }
 },
 "nbformat": 4,
 "nbformat_minor": 2
}
