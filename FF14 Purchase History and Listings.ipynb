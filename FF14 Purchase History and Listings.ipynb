{
 "cells": [
  {
   "cell_type": "code",
   "execution_count": 1,
   "id": "3039bf83",
   "metadata": {},
   "outputs": [],
   "source": [
    "import requests\n",
    "import re\n",
    "import json\n",
    "import csv\n",
    "import time\n",
    "import datetime"
   ]
  },
  {
   "cell_type": "markdown",
   "id": "7c8eaaab",
   "metadata": {},
   "source": [
    "## Purchase History"
   ]
  },
  {
   "cell_type": "code",
   "execution_count": 2,
   "id": "c021d609",
   "metadata": {},
   "outputs": [],
   "source": [
    "def purchase_data(item_Name, transactions, servers):\n",
    "   \n",
    "    # Identify item_ID from ff14 teamcraft dictionary\n",
    "    items_URL = \"https://raw.githubusercontent.com/ffxiv-teamcraft/ffxiv-teamcraft/master/apps/client/src/assets/data/items.json\"\n",
    "    items_req = requests.get(items_URL)\n",
    "    items_JSON = json.loads(items_req.text)\n",
    "    for key, value in items_JSON.items():\n",
    "        if value['en']==item_Name:\n",
    "            item_ID = key \n",
    "    \n",
    "    URL = 'https://universalis.app/api/history/'\n",
    "    cross_server_data = []\n",
    "    for server in servers:\n",
    "        req = requests.get(URL+str(server)+'/'+str(item_ID)+'?entries='+str(transactions))\n",
    "        sales = json.loads(req.text)\n",
    "        output = []\n",
    "        \n",
    "        # add exception-handling for servers with 0 transactions\n",
    "        try:\n",
    "            for i in sales['entries']:\n",
    "                row = [sales['itemID'], sales['worldName'], sales['regularSaleVelocity'],sales['nqSaleVelocity'], \n",
    "                       sales['hqSaleVelocity'], i['pricePerUnit'], i['quantity'], i['hq'],\n",
    "                       datetime.datetime.utcfromtimestamp(i['timestamp']).strftime(\"%m/%d/%Y,%H:%M:%S\")]\n",
    "\n",
    "                # add exception-handling for entries where buyerName didn't exist\n",
    "                try:\n",
    "                    row.insert(len(row)-1, i['buyerName'])\n",
    "                except:\n",
    "                    row.insert(len(row)-1, \"na\")\n",
    "\n",
    "                output.append(row)\n",
    "\n",
    "        except:\n",
    "            pass\n",
    "        \n",
    "        cross_server_data.append(output)\n",
    "        \n",
    "    return cross_server_data"
   ]
  },
  {
   "cell_type": "markdown",
   "id": "6e437cc7",
   "metadata": {},
   "source": [
    "## Listings"
   ]
  },
  {
   "cell_type": "code",
   "execution_count": 3,
   "id": "f802d0c2",
   "metadata": {},
   "outputs": [],
   "source": [
    "def current_listings(item_Name, servers, listings, entries):\n",
    "    \n",
    "    items_URL = \"https://raw.githubusercontent.com/ffxiv-teamcraft/ffxiv-teamcraft/master/apps/client/src/assets/data/items.json\"\n",
    "    items_req = requests.get(items_URL)\n",
    "    items_JSON = json.loads(items_req.text)\n",
    "    for key, value in items_JSON.items():\n",
    "        if value['en']==item_Name:\n",
    "            item_ID = key \n",
    "    \n",
    "    URL = 'https://universalis.app/api/'\n",
    "    cross_server_data = []\n",
    "    for server in servers:\n",
    "        req = requests.get(URL+str(server)+'/'+str(item_ID)+'?listings='+str(listings)+'&entries='+f'{entries}')\n",
    "        current = json.loads(req.text)\n",
    "        \n",
    "        output = []\n",
    "        # add exception-handling for servers with 0 listings\n",
    "        try:\n",
    "            for i in current['listings']:\n",
    "                row = [current['itemID'], current['worldName'], \n",
    "                       current['regularSaleVelocity'],current['nqSaleVelocity'], current['hqSaleVelocity'], \n",
    "                       current['currentAveragePrice'], current['currentAveragePriceNQ'], current['currentAveragePriceHQ'],\n",
    "                       current['minPrice'], current['minPriceNQ'], current['minPriceHQ'],\n",
    "                       current['maxPrice'], current['maxPriceNQ'], current['maxPriceHQ'], \n",
    "                       i['pricePerUnit'], i['quantity'], i['hq'], i['isCrafted'], i['retainerName'],\n",
    "                       datetime.datetime.utcfromtimestamp(i['lastReviewTime']).strftime(\"%m/%d/%Y,%H:%M:%S\")]\n",
    "                \n",
    "                try:\n",
    "                    row.insert(datetime.datetime.utcfromtimestamp(current['lastUploadTime']).strftime(\"%m/%d/%Y,%H:%M:%S\"))\n",
    "                except:\n",
    "                    row.insert(len(row)+1, 'na')\n",
    "            \n",
    "                output.append(row)\n",
    "            \n",
    "        except:\n",
    "            pass\n",
    "               \n",
    "        cross_server_data.append(output)\n",
    "        \n",
    "    return cross_server_data"
   ]
  },
  {
   "cell_type": "markdown",
   "id": "1ff314fa",
   "metadata": {},
   "source": [
    "## Execute"
   ]
  },
  {
   "cell_type": "markdown",
   "id": "9d05a723",
   "metadata": {},
   "source": [
    "### Write Purchase History to csv"
   ]
  },
  {
   "cell_type": "code",
   "execution_count": 4,
   "id": "8cbb9337",
   "metadata": {},
   "outputs": [],
   "source": [
    "#all_servers =  ['Balmung','Brynhildr','Coeurl','Diabolos','Goblin','Malboro','Mateus','Zalera']\n",
    "# 26108\n",
    "# 23893 bathroom floor tiles 932 (last entry feb2022)\n",
    "# 36074 thavnairian chai (last entry 6/11/2022, as of 6/19/2022)\n",
    "# 36167 lunar adamantite ore 362 (last entry jun2022)\n",
    "# 37282 Calamari Ripieni (last entry jun2022)\n",
    "# 15586 dead hive battleaxe\n",
    "# 5703 craftsmans competence materia V\n",
    "# 27818 purple carrot\n",
    "# 15649 glass fiber\n",
    "\n",
    "item_Name = \"Glass Fiber\"\n",
    "transactions = None\n",
    "servers =  ['Mateus']\n",
    "filename = str(item_Name)+'_Purchase_History.csv'\n",
    "\n",
    "with open(filename,'w',encoding='utf-8',newline=\"\") as f:\n",
    "    fr = csv.writer(f)\n",
    "    #Write Header\n",
    "    fr.writerow(('itemID', 'Server', 'regularSaleVelocity','nqSalesVelocity',\n",
    "                 'HQSalesVelocity', 'Price', 'Quantity','HQ', 'buyerName','Timestamp'))\n",
    "\n",
    "    #Write rows\n",
    "    for i in range(len(purchase_data(item_Name, transactions, servers))):\n",
    "        for row in purchase_data(item_Name, transactions, servers)[i]:\n",
    "            fr.writerow(row)"
   ]
  },
  {
   "cell_type": "markdown",
   "id": "8a2067d8",
   "metadata": {},
   "source": [
    "### Write Current Listings to csv"
   ]
  },
  {
   "cell_type": "code",
   "execution_count": 5,
   "id": "22e635e1",
   "metadata": {},
   "outputs": [],
   "source": [
    "item_Name = \"Glass Fiber\"\n",
    "listings = None\n",
    "entries = None\n",
    "servers = ['Balmung','Brynhildr','Coeurl','Diabolos','Goblin','Malboro','Mateus','Zalera']\n",
    "filename = str(item_Name)+'_listings.csv'\n",
    "\n",
    "with open(filename,'w',encoding='utf-8',newline=\"\") as f:\n",
    "    fr = csv.writer(f)\n",
    "    #Write Header\n",
    "    fr.writerow(('itemID', 'Server', \n",
    "                 'regularSaleVelocity','nqSalesVelocity','HQSalesVelocity', \n",
    "                 'currentAvePrice', 'currentAvePriceNQ', 'currentAvePriceHQ',\n",
    "                 'minPrice', 'minPriceNQ', 'minPriceHQ',\n",
    "                 'maxPrice', 'maxPriceNQ', 'maxPriceHQ',\n",
    "                 'Price', 'Quantity','HQ', 'isCrafted', 'retainerName','lastReviewTime', 'lastUploadTime'))\n",
    "\n",
    "    #Write rows\n",
    "    for i in range(len(current_listings(item_Name, servers, listings, entries))):\n",
    "        for row in current_listings(item_Name, servers, listings, entries)[i]:\n",
    "            fr.writerow(row)"
   ]
  },
  {
   "cell_type": "code",
   "execution_count": null,
   "id": "a2824ed9",
   "metadata": {},
   "outputs": [],
   "source": []
  }
 ],
 "metadata": {
  "kernelspec": {
   "display_name": "Python 3 (ipykernel)",
   "language": "python",
   "name": "python3"
  },
  "language_info": {
   "codemirror_mode": {
    "name": "ipython",
    "version": 3
   },
   "file_extension": ".py",
   "mimetype": "text/x-python",
   "name": "python",
   "nbconvert_exporter": "python",
   "pygments_lexer": "ipython3",
   "version": "3.10.5"
  }
 },
 "nbformat": 4,
 "nbformat_minor": 5
}
